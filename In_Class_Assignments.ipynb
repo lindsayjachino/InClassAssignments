{
  "nbformat": 4,
  "nbformat_minor": 0,
  "metadata": {
    "colab": {
      "provenance": [],
      "authorship_tag": "ABX9TyOoFVn2fa5+ldANbMgWMzX5",
      "include_colab_link": true
    },
    "kernelspec": {
      "name": "python3",
      "display_name": "Python 3"
    },
    "language_info": {
      "name": "python"
    }
  },
  "cells": [
    {
      "cell_type": "markdown",
      "metadata": {
        "id": "view-in-github",
        "colab_type": "text"
      },
      "source": [
        "<a href=\"https://colab.research.google.com/github/lindsayjachino/InClassAssignments/blob/main/In_Class_Assignments.ipynb\" target=\"_parent\"><img src=\"https://colab.research.google.com/assets/colab-badge.svg\" alt=\"Open In Colab\"/></a>"
      ]
    },
    {
      "cell_type": "code",
      "execution_count": null,
      "metadata": {
        "colab": {
          "base_uri": "https://localhost:8080/"
        },
        "id": "9GVCV52LpAip",
        "outputId": "89314d9f-1158-4506-f017-0f7f16af9ee8"
      },
      "outputs": [
        {
          "output_type": "stream",
          "name": "stdout",
          "text": [
            "Enter the radius:5\n",
            "Enter the height:6\n",
            "surface_area:345.4 sq.ft\n"
          ]
        }
      ],
      "source": [
        "pi=3.14\n",
        "radius = float(input('Enter the radius:'))\n",
        "height = float(input('Enter the height:'))\n",
        "\n",
        "surface_area=2*pi*radius**2+2*pi*radius*height\n",
        "\n",
        "print(f'surface_area:{surface_area} sq.ft')"
      ]
    }
  ]
}