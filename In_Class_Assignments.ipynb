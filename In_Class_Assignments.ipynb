{
  "nbformat": 4,
  "nbformat_minor": 0,
  "metadata": {
    "colab": {
      "provenance": [],
      "authorship_tag": "ABX9TyMsIwM3m8EHOULyUPPfPODf",
      "include_colab_link": true
    },
    "kernelspec": {
      "name": "python3",
      "display_name": "Python 3"
    },
    "language_info": {
      "name": "python"
    }
  },
  "cells": [
    {
      "cell_type": "markdown",
      "metadata": {
        "id": "view-in-github",
        "colab_type": "text"
      },
      "source": [
        "<a href=\"https://colab.research.google.com/github/lindsayjachino/InClassAssignments/blob/main/In_Class_Assignments.ipynb\" target=\"_parent\"><img src=\"https://colab.research.google.com/assets/colab-badge.svg\" alt=\"Open In Colab\"/></a>"
      ]
    },
    {
      "cell_type": "code",
      "execution_count": null,
      "metadata": {
        "colab": {
          "base_uri": "https://localhost:8080/"
        },
        "id": "9GVCV52LpAip",
        "outputId": "89314d9f-1158-4506-f017-0f7f16af9ee8"
      },
      "outputs": [
        {
          "output_type": "stream",
          "name": "stdout",
          "text": [
            "Enter the radius:5\n",
            "Enter the height:6\n",
            "surface_area:345.4 sq.ft\n"
          ]
        }
      ],
      "source": [
        "pi=3.14\n",
        "radius = float(input('Enter the radius:'))\n",
        "height = float(input('Enter the height:'))\n",
        "\n",
        "surface_area=2*pi*radius**2+2*pi*radius*height\n",
        "\n",
        "print(f'surface_area:{surface_area} sq.ft')"
      ]
    },
    {
      "cell_type": "code",
      "source": [
        "number1= input ('Enter a number')\n",
        "number2= input ('Enter a number')\n",
        "symbol= input ('Enter a symbol (+,-,*,/,//,**,%)')\n",
        "\n",
        "if symbol == '+':\n",
        "  print(number1 + number2)\n",
        "elif symbol == '-':\n",
        "  print(number1 - number2)\n",
        "elif symbol == '*':\n",
        "  print(number1 * number2)\n",
        "elif symbol == '/':\n",
        "  print(number1 / number2)\n",
        "elif symbol == '//':\n",
        "  print(number1 // number2)\n",
        "elif symbol == '**':\n",
        "  print(number1 ** number2)\n",
        "elif symbol == '%':\n",
        "  print(number1 % number2)\n",
        "else:\n",
        "  print(\"Invalid symbol\")"
      ],
      "metadata": {
        "colab": {
          "base_uri": "https://localhost:8080/"
        },
        "id": "o26Yd-f4sEvA",
        "outputId": "d1d5aa43-ea1c-42c7-a998-53e1674b65d6"
      },
      "execution_count": 2,
      "outputs": [
        {
          "output_type": "stream",
          "name": "stdout",
          "text": [
            "Enter a number5\n",
            "Enter a number2\n",
            "Enter a symbol (+,-,*,/,//,**,%)+\n",
            "52\n"
          ]
        }
      ]
    },
    {
      "cell_type": "code",
      "source": [
        "n1=float(input('Please enter first number:'))\n",
        "n2=float(input('Please enter second number:'))\n",
        "s=input('Please enter operator:')\n",
        "\n",
        "if s=='+':\n",
        "  print(f'{n1}+{n2}={n1+n2}')\n",
        "elif s==\"-\":\n",
        "   print(f'{n1}-{n2}={n1-n2}')\n",
        "elif symbol == '*':\n",
        "  print(f'{n1}*{n2}={n1*n2}')\n",
        "elif symbol == '/':\n",
        "  print(f'{n1}/{n2}={n1/n2}')\n",
        "elif symbol == '//':\n",
        "  print(f'{n1}//{n2}={n1//n2}')\n",
        "elif symbol == '**':\n",
        "  print(f'{n1}**{n2}={n1**n2}')\n",
        "elif symbol == '%':\n",
        "  print(f'{n1}%{n2}={n1%n2}')\n",
        "else:\n",
        "  print(\"Invalid symbol\")\n"
      ],
      "metadata": {
        "colab": {
          "base_uri": "https://localhost:8080/"
        },
        "id": "Z5Mz77QawBaI",
        "outputId": "744ff54a-da0d-4384-9a9e-d84eccd62632"
      },
      "execution_count": 3,
      "outputs": [
        {
          "output_type": "stream",
          "name": "stdout",
          "text": [
            "Please enter first number:9\n",
            "Please enter second number:5\n",
            "Please enter operator:+\n",
            "9.0+5.0=14.0\n"
          ]
        }
      ]
    },
    {
      "cell_type": "code",
      "source": [
        "x=5\n",
        "if x% 2 == 0:\n",
        "  result=\"even\"\n",
        "else:\n",
        "  result='odd'\n",
        "print(result)"
      ],
      "metadata": {
        "colab": {
          "base_uri": "https://localhost:8080/"
        },
        "id": "plwMJNuRxnyM",
        "outputId": "1d0fa612-a80f-49a8-c954-9ed9cbfffb20"
      },
      "execution_count": 4,
      "outputs": [
        {
          "output_type": "stream",
          "name": "stdout",
          "text": [
            "odd\n"
          ]
        }
      ]
    }
  ]
}