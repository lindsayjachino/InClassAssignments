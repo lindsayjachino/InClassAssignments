{
  "nbformat": 4,
  "nbformat_minor": 0,
  "metadata": {
    "colab": {
      "provenance": [],
      "authorship_tag": "ABX9TyOChHOtqZvpufUg/gBbDAsn",
      "include_colab_link": true
    },
    "kernelspec": {
      "name": "python3",
      "display_name": "Python 3"
    },
    "language_info": {
      "name": "python"
    }
  },
  "cells": [
    {
      "cell_type": "markdown",
      "metadata": {
        "id": "view-in-github",
        "colab_type": "text"
      },
      "source": [
        "<a href=\"https://colab.research.google.com/github/lindsayjachino/InClassAssignments/blob/main/In_Class_Assignments.ipynb\" target=\"_parent\"><img src=\"https://colab.research.google.com/assets/colab-badge.svg\" alt=\"Open In Colab\"/></a>"
      ]
    },
    {
      "cell_type": "code",
      "execution_count": null,
      "metadata": {
        "colab": {
          "base_uri": "https://localhost:8080/"
        },
        "id": "9GVCV52LpAip",
        "outputId": "89314d9f-1158-4506-f017-0f7f16af9ee8"
      },
      "outputs": [
        {
          "output_type": "stream",
          "name": "stdout",
          "text": [
            "Enter the radius:5\n",
            "Enter the height:6\n",
            "surface_area:345.4 sq.ft\n"
          ]
        }
      ],
      "source": [
        "pi=3.14\n",
        "radius = float(input('Enter the radius:'))\n",
        "height = float(input('Enter the height:'))\n",
        "\n",
        "surface_area=2*pi*radius**2+2*pi*radius*height\n",
        "\n",
        "print(f'surface_area:{surface_area} sq.ft')"
      ]
    },
    {
      "cell_type": "code",
      "source": [
        "number1= input ('Enter a number')\n",
        "number2= input ('Enter a number')\n",
        "symbol= input ('Enter a symbol (+,-,*,/,//,**,%)')\n",
        "\n",
        "if symbol == '+':\n",
        "  print(number1 + number2)\n",
        "elif symbol == '-':\n",
        "  print(number1 - number2)\n",
        "elif symbol == '*':\n",
        "  print(number1 * number2)\n",
        "elif symbol == '/':\n",
        "  print(number1 / number2)\n",
        "elif symbol == '//':\n",
        "  print(number1 // number2)\n",
        "elif symbol == '**':\n",
        "  print(number1 ** number2)\n",
        "elif symbol == '%':\n",
        "  print(number1 % number2)\n",
        "else:\n",
        "  print(\"Invalid symbol\")"
      ],
      "metadata": {
        "colab": {
          "base_uri": "https://localhost:8080/"
        },
        "id": "o26Yd-f4sEvA",
        "outputId": "d1d5aa43-ea1c-42c7-a998-53e1674b65d6"
      },
      "execution_count": null,
      "outputs": [
        {
          "output_type": "stream",
          "name": "stdout",
          "text": [
            "Enter a number5\n",
            "Enter a number2\n",
            "Enter a symbol (+,-,*,/,//,**,%)+\n",
            "52\n"
          ]
        }
      ]
    },
    {
      "cell_type": "code",
      "source": [
        "n1=float(input('Please enter first number:'))\n",
        "n2=float(input('Please enter second number:'))\n",
        "s=input('Please enter operator:')\n",
        "\n",
        "if s=='+':\n",
        "  print(f'{n1}+{n2}={n1+n2}')\n",
        "elif s==\"-\":\n",
        "   print(f'{n1}-{n2}={n1-n2}')\n",
        "elif symbol == '*':\n",
        "  print(f'{n1}*{n2}={n1*n2}')\n",
        "elif symbol == '/':\n",
        "  print(f'{n1}/{n2}={n1/n2}')\n",
        "elif symbol == '//':\n",
        "  print(f'{n1}//{n2}={n1//n2}')\n",
        "elif symbol == '**':\n",
        "  print(f'{n1}**{n2}={n1**n2}')\n",
        "elif symbol == '%':\n",
        "  print(f'{n1}%{n2}={n1%n2}')\n",
        "else:\n",
        "  print(\"Invalid symbol\")\n"
      ],
      "metadata": {
        "colab": {
          "base_uri": "https://localhost:8080/"
        },
        "id": "Z5Mz77QawBaI",
        "outputId": "744ff54a-da0d-4384-9a9e-d84eccd62632"
      },
      "execution_count": null,
      "outputs": [
        {
          "output_type": "stream",
          "name": "stdout",
          "text": [
            "Please enter first number:9\n",
            "Please enter second number:5\n",
            "Please enter operator:+\n",
            "9.0+5.0=14.0\n"
          ]
        }
      ]
    },
    {
      "cell_type": "code",
      "source": [
        "x=5\n",
        "if x% 2 == 0:\n",
        "  result=\"even\"\n",
        "else:\n",
        "  result='odd'\n",
        "print(result)"
      ],
      "metadata": {
        "colab": {
          "base_uri": "https://localhost:8080/"
        },
        "id": "plwMJNuRxnyM",
        "outputId": "1d0fa612-a80f-49a8-c954-9ed9cbfffb20"
      },
      "execution_count": null,
      "outputs": [
        {
          "output_type": "stream",
          "name": "stdout",
          "text": [
            "odd\n"
          ]
        }
      ]
    },
    {
      "cell_type": "code",
      "source": [
        "for hours in range (1,9):\n",
        "  price= 5+(2.5*hours)\n",
        "  if price < 10:\n",
        "    price= 10.0\n",
        "  elif price>20:\n",
        "    price=20.0\n",
        "  min_price=10\n",
        "\n",
        "  print(f'{hours} | {price}')"
      ],
      "metadata": {
        "colab": {
          "base_uri": "https://localhost:8080/"
        },
        "id": "1pqbkXnTX33E",
        "outputId": "1fa06fb1-ff20-43c6-92ee-8e6ade122dee"
      },
      "execution_count": null,
      "outputs": [
        {
          "output_type": "stream",
          "name": "stdout",
          "text": [
            "1 | 10.0\n",
            "2 | 10.0\n",
            "3 | 12.5\n",
            "4 | 15.0\n",
            "5 | 17.5\n",
            "6 | 20.0\n",
            "7 | 20.0\n",
            "8 | 20.0\n"
          ]
        }
      ]
    },
    {
      "cell_type": "code",
      "source": [
        "for advertisingDollars in range (0,201,25):\n",
        "  revenue= (20+2* round(advertisingDollars ** .5))*10\n",
        "  costs= 200+ advertisingDollars\n",
        "  profit= revenue-costs\n",
        "  print (f'{advertisingDollars} {profit}')"
      ],
      "metadata": {
        "colab": {
          "base_uri": "https://localhost:8080/"
        },
        "id": "XFwNg2PvdTKC",
        "outputId": "955b1191-5513-4814-a189-8ced87adc0b3"
      },
      "execution_count": null,
      "outputs": [
        {
          "output_type": "stream",
          "name": "stdout",
          "text": [
            "0 0\n",
            "25 75\n",
            "50 90\n",
            "75 105\n",
            "100 100\n",
            "125 95\n",
            "150 90\n",
            "175 85\n",
            "200 80\n"
          ]
        }
      ]
    },
    {
      "cell_type": "code",
      "source": [
        "lst= []\n",
        "\n",
        "num= float(input('Give a number:'))\n",
        "\n",
        "while num != 0.0:\n",
        "  lst.append(num)\n",
        "  num= float(input('Give a number:'))\n",
        "lst.sort(reverse=True)\n",
        "print(lst)"
      ],
      "metadata": {
        "colab": {
          "base_uri": "https://localhost:8080/"
        },
        "id": "WA4AF-uqPLX_",
        "outputId": "64190b93-2232-47cc-8bde-24f94db80f48"
      },
      "execution_count": null,
      "outputs": [
        {
          "output_type": "stream",
          "name": "stdout",
          "text": [
            "Give a number:5\n",
            "Give a number:4\n",
            "Give a number:3\n",
            "Give a number:2\n",
            "Give a number:1\n",
            "Give a number:0\n",
            "[5.0, 4.0, 3.0, 2.0, 1.0]\n"
          ]
        }
      ]
    },
    {
      "cell_type": "code",
      "source": [
        "months={}\n",
        "\n",
        "names=[\"Jan\",\"Feb\",\"Mar\",\"Apr\",\"May\",\"Jun\",\"Jul\",\"Aug\",\"Sep\",\"Oct\",\"Nov\",\"Dec\"]\n",
        "numbers= [1,2,3,4,5,6,7,8,9,10,11,12]\n",
        "\n",
        "for idx in range(len(numbers)):\n",
        "  months[numbers[idx]]=names[idx]\n",
        "months"
      ],
      "metadata": {
        "colab": {
          "base_uri": "https://localhost:8080/"
        },
        "id": "EuGxmmrex9_p",
        "outputId": "43361e33-16c4-4c0d-b1a7-a5fe6e5dfd3e"
      },
      "execution_count": null,
      "outputs": [
        {
          "output_type": "execute_result",
          "data": {
            "text/plain": [
              "{1: 'Jan',\n",
              " 2: 'Feb',\n",
              " 3: 'Mar',\n",
              " 4: 'Apr',\n",
              " 5: 'May',\n",
              " 6: 'Jun',\n",
              " 7: 'Jul',\n",
              " 8: 'Aug',\n",
              " 9: 'Sep',\n",
              " 10: 'Oct',\n",
              " 11: 'Nov',\n",
              " 12: 'Dec'}"
            ]
          },
          "metadata": {},
          "execution_count": 4
        }
      ]
    },
    {
      "cell_type": "code",
      "source": [
        "months={}\n",
        "\n",
        "names=[\"Jan\",\"Feb\",\"Mar\",\"Apr\",\"May\",\"Jun\",\"Jul\",\"Aug\",\"Sep\",\"Oct\",\"Nov\",\"Dec\"]\n",
        "numbers= [1,2,3,4,5,6,7,8,9,10,11,12]\n",
        "\n",
        "for num in numbers:\n",
        "  months[num]=names[num-1]\n",
        "months"
      ],
      "metadata": {
        "colab": {
          "base_uri": "https://localhost:8080/"
        },
        "id": "9I_CbygN2c5g",
        "outputId": "47cef10b-7c51-4541-9670-a3ebbc563a41"
      },
      "execution_count": null,
      "outputs": [
        {
          "output_type": "execute_result",
          "data": {
            "text/plain": [
              "{1: 'Jan',\n",
              " 2: 'Feb',\n",
              " 3: 'Mar',\n",
              " 4: 'Apr',\n",
              " 5: 'May',\n",
              " 6: 'Jun',\n",
              " 7: 'Jul',\n",
              " 8: 'Aug',\n",
              " 9: 'Sep',\n",
              " 10: 'Oct',\n",
              " 11: 'Nov',\n",
              " 12: 'Dec'}"
            ]
          },
          "metadata": {},
          "execution_count": 5
        }
      ]
    },
    {
      "cell_type": "code",
      "source": [
        "counts= {}\n",
        "\n",
        "while len(counts) < 5:\n",
        "  key= input('Give a string: ')\n",
        "\n",
        "  if key not in counts:\n",
        "    counts[key]= 1\n",
        "  else:\n",
        "    counts[key]+= 1\n",
        "\n",
        "counts"
      ],
      "metadata": {
        "id": "gFlDyKjX4Xse"
      },
      "execution_count": null,
      "outputs": []
    },
    {
      "cell_type": "code",
      "source": [
        "def calcFee(hours):\n",
        "  fee= 5 + 2.5 * hours\n",
        "  if fee < 10.0:\n",
        "    fee= 10.0\n",
        "  elif fee > 20.0:\n",
        "    fee= 20.0\n",
        "  print(f'Fee: ${fee}')\n",
        "  return\n",
        "\n",
        "print('Program starts...')\n",
        "numHours = int(input(\"Enter number of hours parked: \"))\n",
        "fee= calcFee(numHours)\n",
        "print(fee)"
      ],
      "metadata": {
        "colab": {
          "base_uri": "https://localhost:8080/"
        },
        "id": "DdTeVRvgpL1e",
        "outputId": "2f0a1667-7bac-4572-aa56-272580b2d35f"
      },
      "execution_count": null,
      "outputs": [
        {
          "output_type": "stream",
          "name": "stdout",
          "text": [
            "Program starts...\n",
            "Enter number of hours parked: 4\n",
            "Fee: $15.0\n",
            "None\n"
          ]
        }
      ]
    },
    {
      "cell_type": "code",
      "source": [
        "def reverse(s):\n",
        "  if len(s) <= 1:\n",
        "    return s\n",
        "  else:\n",
        "    #return s[-1] + reverse(s[:-1])\n",
        "    #return s[-1] + reverse(s[1:-1]) + s[0]\n",
        "    return reverse(s[1:]) + s[0]\n",
        "\n",
        "reverse('Hello')"
      ],
      "metadata": {
        "colab": {
          "base_uri": "https://localhost:8080/",
          "height": 35
        },
        "id": "2f4QlZHgPDge",
        "outputId": "a49b731f-acc2-4403-e4b2-055f303bd75c"
      },
      "execution_count": null,
      "outputs": [
        {
          "output_type": "execute_result",
          "data": {
            "text/plain": [
              "'olleH'"
            ],
            "application/vnd.google.colaboratory.intrinsic+json": {
              "type": "string"
            }
          },
          "metadata": {},
          "execution_count": 3
        }
      ]
    },
    {
      "cell_type": "code",
      "source": [
        "def calcFee(hours):\n",
        "  fee= 5 + 2.5 * hours\n",
        "  if fee < 10.0:\n",
        "    fee= 10.0\n",
        "  elif fee > 20.0:\n",
        "    fee= 20.0\n",
        "  print(f'Fee: ${fee}')\n",
        "\n",
        "def main ():\n",
        "  try:\n",
        "    numHours = int(input(\"Enter number of hours parked: \"))\n",
        "  except ValueError:\n",
        "    print('Invalid input')\n",
        "  except:\n",
        "    print('Unknown error')\n",
        "\n",
        "if __name__ == \"__main__\":\n",
        "  main()"
      ],
      "metadata": {
        "id": "kJqjAJWOOp-m",
        "colab": {
          "base_uri": "https://localhost:8080/"
        },
        "outputId": "3a3cb271-20b7-48d6-ff90-c544bffa5ce4"
      },
      "execution_count": null,
      "outputs": [
        {
          "name": "stdout",
          "output_type": "stream",
          "text": [
            "Enter number of hours parked: 5\n"
          ]
        }
      ]
    },
    {
      "cell_type": "markdown",
      "source": [],
      "metadata": {
        "id": "QzhLWfbPT3Ht"
      }
    },
    {
      "cell_type": "code",
      "source": [
        "def getValues(n):\n",
        "  L = []\n",
        "  for i in range(n):\n",
        "    weight = float(input(f'Enter weight: '))\n",
        "    L.append(weight)\n",
        "  return L\n",
        "\n",
        "def calcAverage(alist):\n",
        "  try:\n",
        "    print(f'The average weight is {sum(alist)[2:]/len(alist[2:])}')\n",
        "  except ZeroDivisionError:\n",
        "    print('List alist is empty!')\n",
        "\n",
        "if __name__ == \"__main__\":\n",
        "  try:\n",
        "   n=int(input('Enter size of list: '))\n",
        "   alist=getValues(n)\n",
        "   calcAverage(alist)\n",
        "  except ValueError:\n",
        "    print('Cannot be casted as int()')"
      ],
      "metadata": {
        "id": "f6G1QLPRWaMq",
        "colab": {
          "base_uri": "https://localhost:8080/"
        },
        "outputId": "59bdfef7-d4bf-443d-9a55-667b26f22145"
      },
      "execution_count": 10,
      "outputs": [
        {
          "output_type": "stream",
          "name": "stdout",
          "text": [
            "Enter size of list: 9/\n",
            "Cannot be casted as int()\n"
          ]
        }
      ]
    }
  ]
}